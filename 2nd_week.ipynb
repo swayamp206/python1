{
  "nbformat": 4,
  "nbformat_minor": 0,
  "metadata": {
    "colab": {
      "provenance": []
    },
    "kernelspec": {
      "name": "python3",
      "display_name": "Python 3"
    },
    "language_info": {
      "name": "python"
    }
  },
  "cells": [
    {
      "cell_type": "code",
      "execution_count": null,
      "metadata": {
        "id": "zhJ3FIZ_4sMZ"
      },
      "outputs": [],
      "source": []
    },
    {
      "cell_type": "markdown",
      "source": [
        "bitwise operators"
      ],
      "metadata": {
        "id": "oQWxcgeB44YG"
      }
    },
    {
      "cell_type": "code",
      "source": [
        "print(8 & 12)\n",
        "print(0xf & 0xe)"
      ],
      "metadata": {
        "id": "rvakqlNI6HDl",
        "colab": {
          "base_uri": "https://localhost:8080/"
        },
        "outputId": "4032ae8b-5ca2-4875-9072-107f3c5c4d4d"
      },
      "execution_count": 2,
      "outputs": [
        {
          "output_type": "stream",
          "name": "stdout",
          "text": [
            "8\n",
            "14\n"
          ]
        }
      ]
    },
    {
      "cell_type": "code",
      "source": [
        "print(8 | 12)\n",
        "print(0xf | 0xe)"
      ],
      "metadata": {
        "colab": {
          "base_uri": "https://localhost:8080/"
        },
        "id": "csw5zRfTrZ_e",
        "outputId": "7fab3cf2-0f13-4826-8ad3-d1d0679f987d"
      },
      "execution_count": 3,
      "outputs": [
        {
          "output_type": "stream",
          "name": "stdout",
          "text": [
            "12\n",
            "15\n"
          ]
        }
      ]
    },
    {
      "cell_type": "code",
      "source": [
        "print(8 ^ 12)\n",
        "print(0xf ^ 0xe)"
      ],
      "metadata": {
        "colab": {
          "base_uri": "https://localhost:8080/"
        },
        "id": "AtekvKljsm7n",
        "outputId": "b2d2a62c-b73d-491f-8198-c7c456b92367"
      },
      "execution_count": 4,
      "outputs": [
        {
          "output_type": "stream",
          "name": "stdout",
          "text": [
            "4\n",
            "1\n"
          ]
        }
      ]
    },
    {
      "cell_type": "code",
      "source": [
        "print(8 >> 1)"
      ],
      "metadata": {
        "colab": {
          "base_uri": "https://localhost:8080/"
        },
        "id": "-afkQDAoswBN",
        "outputId": "f6ccfc87-1c69-42d9-d170-091560130ed0"
      },
      "execution_count": 6,
      "outputs": [
        {
          "output_type": "stream",
          "name": "stdout",
          "text": [
            "4\n"
          ]
        }
      ]
    },
    {
      "cell_type": "code",
      "source": [
        "print(8 << 1)"
      ],
      "metadata": {
        "colab": {
          "base_uri": "https://localhost:8080/"
        },
        "id": "kWqBG5EavxwO",
        "outputId": "5b8b0993-e4dc-4510-f6b2-c84eedb8c6dd"
      },
      "execution_count": 7,
      "outputs": [
        {
          "output_type": "stream",
          "name": "stdout",
          "text": [
            "16\n"
          ]
        }
      ]
    },
    {
      "cell_type": "code",
      "source": [],
      "metadata": {
        "id": "BnGwvAIlwA2K"
      },
      "execution_count": null,
      "outputs": []
    },
    {
      "cell_type": "markdown",
      "source": [
        "assignment operators"
      ],
      "metadata": {
        "id": "KAppNSw5woYT"
      }
    },
    {
      "cell_type": "code",
      "source": [
        "a=8\n",
        "print(a)\n",
        "a+=3\n",
        "print(a)"
      ],
      "metadata": {
        "colab": {
          "base_uri": "https://localhost:8080/"
        },
        "id": "DStD8GBDwxs5",
        "outputId": "d7ab487c-600a-42ca-d801-06e58b9271fe"
      },
      "execution_count": 10,
      "outputs": [
        {
          "output_type": "stream",
          "name": "stdout",
          "text": [
            "8\n",
            "11\n"
          ]
        }
      ]
    },
    {
      "cell_type": "code",
      "source": [
        "#*identify and membership operators*\n",
        "\n",
        "x=[\"hubli\",\"belgaum\"]\n",
        "y=[\"hubli\",\"belgaum\"]\n",
        "z=x\n",
        "z=y\n",
        "print(z is not x)\n",
        "print(y is x)\n",
        "print(y is z)\n"
      ],
      "metadata": {
        "colab": {
          "base_uri": "https://localhost:8080/"
        },
        "id": "57sIb1C_w3Lx",
        "outputId": "efea3e6f-35e0-4d9a-f9ca-8c8d969606c1"
      },
      "execution_count": 12,
      "outputs": [
        {
          "output_type": "stream",
          "name": "stdout",
          "text": [
            "True\n",
            "False\n",
            "True\n"
          ]
        }
      ]
    },
    {
      "cell_type": "code",
      "source": [
        "#*while loop*\n",
        "\n",
        "num=int(input(\"enter the number\"))\n",
        "while num<=9:\n",
        " print(\"number is single digit\")\n",
        " break\n",
        "while num>9 and num<=99:\n",
        " print(\"number is double digit\")\n",
        " break\n",
        "\n"
      ],
      "metadata": {
        "colab": {
          "base_uri": "https://localhost:8080/"
        },
        "id": "gR18CSdE2nho",
        "outputId": "07148784-d530-4237-c149-5d7c7fade3b1"
      },
      "execution_count": 13,
      "outputs": [
        {
          "output_type": "stream",
          "name": "stdout",
          "text": [
            "enter the number3\n",
            "number is single digit\n"
          ]
        }
      ]
    },
    {
      "cell_type": "code",
      "source": [
        "#*for loop*\n",
        "\n",
        "for x in range(6):\n",
        "  print(x)\n",
        "\n",
        "for x in range(1,20,2):\n",
        "  print(x)\n",
        "\n",
        "for x in range(0,1000,100):\n",
        "  print(\"trible digit number\")"
      ],
      "metadata": {
        "colab": {
          "base_uri": "https://localhost:8080/"
        },
        "id": "c768Y3vc22IL",
        "outputId": "ec7a6c6e-d17b-4c1f-df0c-135aeaed55e0"
      },
      "execution_count": 14,
      "outputs": [
        {
          "output_type": "stream",
          "name": "stdout",
          "text": [
            "0\n",
            "1\n",
            "2\n",
            "3\n",
            "4\n",
            "5\n",
            "1\n",
            "3\n",
            "5\n",
            "7\n",
            "9\n",
            "11\n",
            "13\n",
            "15\n",
            "17\n",
            "19\n",
            "trible digit number\n",
            "trible digit number\n",
            "trible digit number\n",
            "trible digit number\n",
            "trible digit number\n",
            "trible digit number\n",
            "trible digit number\n",
            "trible digit number\n",
            "trible digit number\n",
            "trible digit number\n"
          ]
        }
      ]
    },
    {
      "cell_type": "code",
      "source": [],
      "metadata": {
        "id": "uwpvwcBk3Hl9"
      },
      "execution_count": null,
      "outputs": []
    }
  ]
}